{
 "cells": [
  {
   "cell_type": "code",
   "execution_count": 23,
   "metadata": {
    "colab": {
     "base_uri": "https://localhost:8080/"
    },
    "id": "tvvlWAPZSdkV",
    "outputId": "ec6f7e4d-b3d7-4561-af57-aaaf9cfacf88"
   },
   "outputs": [
    {
     "name": "stdout",
     "output_type": "stream",
     "text": [
      "Requirement already satisfied: pyspark in /usr/local/lib/python3.11/dist-packages (3.5.5)\n",
      "Requirement already satisfied: py4j==0.10.9.7 in /usr/local/lib/python3.11/dist-packages (from pyspark) (0.10.9.7)\n"
     ]
    }
   ],
   "source": [
    "pip install pyspark"
   ]
  },
  {
   "cell_type": "code",
   "execution_count": 1,
   "metadata": {
    "colab": {
     "base_uri": "https://localhost:8080/"
    },
    "id": "av7q6z1dS2y8",
    "outputId": "cc16fb0c-5a62-4124-dd4e-2584ef34c6b0"
   },
   "outputs": [
    {
     "name": "stdout",
     "output_type": "stream",
     "text": [
      "root\n",
      " |-- name: string (nullable = true)\n",
      " |-- company: string (nullable = true)\n",
      " |-- year: string (nullable = true)\n",
      " |-- Price: string (nullable = true)\n",
      " |-- kms_driven: string (nullable = true)\n",
      " |-- fuel_type: string (nullable = true)\n",
      "\n",
      "+--------------------+--------+----+-------------+----------+---------+\n",
      "|                name| company|year|        Price|kms_driven|fuel_type|\n",
      "+--------------------+--------+----+-------------+----------+---------+\n",
      "|Hyundai Santro Xi...| Hyundai|2007|       80,000|45,000 kms|   Petrol|\n",
      "|Mahindra Jeep CL5...|Mahindra|2006|     4,25,000|    40 kms|   Diesel|\n",
      "|Maruti Suzuki Alt...|  Maruti|2018|Ask For Price|22,000 kms|   Petrol|\n",
      "|Hyundai Grand i10...| Hyundai|2014|     3,25,000|28,000 kms|   Petrol|\n",
      "|Ford EcoSport Tit...|    Ford|2014|     5,75,000|36,000 kms|   Diesel|\n",
      "+--------------------+--------+----+-------------+----------+---------+\n",
      "only showing top 5 rows\n",
      "\n"
     ]
    }
   ],
   "source": [
    "from pyspark.sql import SparkSession\n",
    "from pyspark.sql.functions import col, regexp_replace, avg, max, min, count\n",
    "from pyspark.sql.functions import round\n",
    "\n",
    "\n",
    "# Initialize Spark session\n",
    "spark = SparkSession.builder \\\n",
    "    .appName(\"Quikr Car Dataset Analysis\") \\\n",
    "    .getOrCreate()\n",
    "\n",
    "# Load the dataset\n",
    "df = spark.read.csv(\"quikr_car.csv\", header=True, inferSchema=True)\n",
    "\n",
    "# Display schema and sample data\n",
    "df.printSchema()\n",
    "df.show(5)"
   ]
  },
  {
   "cell_type": "code",
   "execution_count": 7,
   "metadata": {
    "colab": {
     "base_uri": "https://localhost:8080/"
    },
    "id": "05g0hhXlTJ-4",
    "outputId": "9941879a-e887-439c-fa91-80d5b50f25e2"
   },
   "outputs": [
    {
     "name": "stdout",
     "output_type": "stream",
     "text": [
      "Data Cleaned\n"
     ]
    }
   ],
   "source": [
    "#Step-2: Data Cleaning\n",
    "\n",
    "# Clean 'Price' column: remove non-numeric characters and convert to integer\n",
    "df = df.withColumn(\"Price\", regexp_replace(col(\"Price\"), \"[^0-9]\", \"\"))\n",
    "df = df.withColumn(\"Price\", col(\"Price\").cast(\"int\"))\n",
    "\n",
    "# Clean 'kms_driven' column: remove non-numeric characters and convert to integer\n",
    "df = df.withColumn(\"kms_driven\", regexp_replace(col(\"kms_driven\"), \"[^0-9]\", \"\"))\n",
    "df = df.withColumn(\"kms_driven\", col(\"kms_driven\").cast(\"int\"))\n",
    "\n",
    "# Drop rows with nulls in important columns\n",
    "df_clean = df.dropna(subset=[\"Price\", \"kms_driven\", \"year\", \"fuel_type\", \"company\"])\n",
    "print('Data Cleaned')"
   ]
  },
  {
   "cell_type": "code",
   "execution_count": 9,
   "metadata": {
    "colab": {
     "base_uri": "https://localhost:8080/"
    },
    "id": "DghSKN4vUQnS",
    "outputId": "6d652332-0395-494d-81a6-b4a8bd857fb6"
   },
   "outputs": [
    {
     "name": "stdout",
     "output_type": "stream",
     "text": [
      "+----------+----------+\n",
      "|   company| avg_price|\n",
      "+----------+----------+\n",
      "|    Maruti| 269837.55|\n",
      "|Volkswagen|  407105.0|\n",
      "|    Jaguar| 2495000.0|\n",
      "|      Tata| 200939.29|\n",
      "|      Jeep|  950000.0|\n",
      "|Mitsubishi|1298333.33|\n",
      "|      Mini| 1891111.0|\n",
      "| Chevrolet| 202085.26|\n",
      "|     Volvo| 1850000.0|\n",
      "|   Hyundai| 318402.78|\n",
      "|     Honda| 347632.92|\n",
      "| Hindustan| 303333.33|\n",
      "|      Audi|1476909.09|\n",
      "|  Mercedes|1170666.83|\n",
      "|      Land| 2100000.0|\n",
      "|   Renault| 460512.27|\n",
      "|  Mahindra| 603436.69|\n",
      "|       BMW| 1049875.0|\n",
      "|    Datsun|  255714.0|\n",
      "|     Skoda| 251191.38|\n",
      "+----------+----------+\n",
      "only showing top 20 rows\n",
      "\n"
     ]
    }
   ],
   "source": [
    "#Analysis\n",
    "# 1. Average Price by Company\n",
    "avg_price_by_company = df_clean.groupBy(\"company\") \\\n",
    "    .agg(round(avg(\"Price\"), 2).alias(\"avg_price\"))\n",
    "\n",
    "avg_price_by_company.show()\n"
   ]
  },
  {
   "cell_type": "code",
   "execution_count": 11,
   "metadata": {
    "colab": {
     "base_uri": "https://localhost:8080/"
    },
    "id": "Bm7zh2XXUaxa",
    "outputId": "35ee39d3-acf9-4319-97b8-a90dff9c68e8"
   },
   "outputs": [
    {
     "name": "stdout",
     "output_type": "stream",
     "text": [
      "+---------+--------------+\n",
      "|fuel_type|avg_kms_driven|\n",
      "+---------+--------------+\n",
      "|   Diesel|      55650.98|\n",
      "|      LPG|      115000.0|\n",
      "|   Petrol|      37498.96|\n",
      "+---------+--------------+\n",
      "\n"
     ]
    }
   ],
   "source": [
    "# 2. Average Kilometers Driven by Fuel Type\n",
    "avg_kms_by_fuel = df_clean.groupBy(\"fuel_type\") \\\n",
    "    .agg(round(avg(\"kms_driven\"), 2).alias(\"avg_kms_driven\"))\n",
    "\n",
    "avg_kms_by_fuel.show()"
   ]
  },
  {
   "cell_type": "code",
   "execution_count": 13,
   "metadata": {
    "colab": {
     "base_uri": "https://localhost:8080/"
    },
    "id": "glzo0mkMUe8r",
    "outputId": "16733fcc-eef0-4725-cb4a-e82d7f9cd466"
   },
   "outputs": [
    {
     "name": "stdout",
     "output_type": "stream",
     "text": [
      "+----+---------+\n",
      "|year|car_count|\n",
      "+----+---------+\n",
      "|1995|        2|\n",
      "|2000|        7|\n",
      "|2001|        5|\n",
      "|2002|        4|\n",
      "|2003|       13|\n",
      "|2004|       12|\n",
      "|2005|       13|\n",
      "|2006|       22|\n",
      "|2007|       19|\n",
      "|2008|       16|\n",
      "|2009|       54|\n",
      "|2010|       43|\n",
      "|2011|       59|\n",
      "|2012|       75|\n",
      "|2013|       94|\n",
      "|2014|       92|\n",
      "|2015|      111|\n",
      "|2016|       74|\n",
      "|2017|       53|\n",
      "|2018|       30|\n",
      "+----+---------+\n",
      "only showing top 20 rows\n",
      "\n"
     ]
    }
   ],
   "source": [
    "# 3. Count of Cars by Year\n",
    "car_count_by_year = df_clean.groupBy(\"year\").agg(count(\"*\").alias(\"car_count\"))\n",
    "car_count_by_year.orderBy(\"year\").show()"
   ]
  },
  {
   "cell_type": "code",
   "execution_count": 15,
   "metadata": {
    "colab": {
     "base_uri": "https://localhost:8080/"
    },
    "id": "5TX58xbNUhAF",
    "outputId": "f7cc28a9-83dd-424c-8d77-7c6b1ea0be2f"
   },
   "outputs": [
    {
     "name": "stdout",
     "output_type": "stream",
     "text": [
      "+----------+---------+---------+\n",
      "|   company|max_price|min_price|\n",
      "+----------+---------+---------+\n",
      "|    Maruti|  1000000|    30000|\n",
      "|Volkswagen|  1200000|   199999|\n",
      "|    Jaguar|  2800000|  2190000|\n",
      "|      Tata|   650000|    32000|\n",
      "|      Jeep|   950000|   950000|\n",
      "|Mitsubishi|  1725000|    85000|\n",
      "|      Mini|  1891111|  1891111|\n",
      "| Chevrolet|   490000|    80000|\n",
      "|     Volvo|  1850000|  1850000|\n",
      "|   Hyundai|  1200000|    45000|\n",
      "|     Honda|   860000|    65000|\n",
      "| Hindustan|   750000|    70000|\n",
      "|      Audi|  3100000|   500000|\n",
      "|  Mercedes|  2000000|   399000|\n",
      "|      Land|  2100000|  2100000|\n",
      "|   Renault|   800000|   244999|\n",
      "|  Mahindra|  8500003|   130000|\n",
      "|       BMW|  1600000|   600000|\n",
      "|    Datsun|   299999|   235000|\n",
      "|     Skoda|   530000|   110000|\n",
      "+----------+---------+---------+\n",
      "only showing top 20 rows\n",
      "\n"
     ]
    }
   ],
   "source": [
    "# 4. Max/Min Price by Company\n",
    "price_stats_by_company = df_clean.groupBy(\"company\").agg(\n",
    "    max(\"Price\").alias(\"max_price\"),\n",
    "    min(\"Price\").alias(\"min_price\")\n",
    ")\n",
    "price_stats_by_company.show()\n"
   ]
  },
  {
   "cell_type": "markdown",
   "metadata": {
    "id": "aq93epz3V04r"
   },
   "source": [
    "**Conclusion**:In this task, we used PySpark to perform big data analysis on the `quikr_car.csv` dataset. We cleaned and transformed key columns like `Price` and `kms_driven`, then applied grouped operations to derive insights such as average price by company, average kilometers driven by fuel type, and car distribution by year. This demonstrated PySpark’s scalability and efficiency in processing large datasets, fulfilling the requirement to extract insights using big data tools.\n"
   ]
  },
  {
   "cell_type": "code",
   "execution_count": null,
   "metadata": {
    "id": "zUMcCLzqUlFT"
   },
   "outputs": [],
   "source": []
  }
 ],
 "metadata": {
  "colab": {
   "provenance": []
  },
  "kernelspec": {
   "display_name": "Python 3 (ipykernel)",
   "language": "python",
   "name": "python3"
  },
  "language_info": {
   "codemirror_mode": {
    "name": "ipython",
    "version": 3
   },
   "file_extension": ".py",
   "mimetype": "text/x-python",
   "name": "python",
   "nbconvert_exporter": "python",
   "pygments_lexer": "ipython3",
   "version": "3.11.7"
  }
 },
 "nbformat": 4,
 "nbformat_minor": 4
}
